{
 "cells": [
  {
   "cell_type": "code",
   "execution_count": 1,
   "metadata": {},
   "outputs": [],
   "source": [
    "import pandas as pd\n",
    "import numpy as np\n",
    "import matplotlib.pyplot as plt"
   ]
  },
  {
   "cell_type": "code",
   "execution_count": null,
   "metadata": {},
   "outputs": [],
   "source": [
    "# Data from analysis\n",
    "#data = pd.read_csv('data.dat', names=['s2','dm','alp','ji'], delim_whitespace=True)\n",
    "#data = pd.read_csv('data_grid_12x12.dat', names=['s2','dm','alp','ji'], delim_whitespace=True)\n",
    "#data = pd.read_csv('data_grid_12x12_1.4.dat', names=['s2','dm','alp','ji'], delim_whitespace=True)\n",
    "#data = pd.read_csv('data_grid_35x35_1.4.dat', names=['s2','dm','alp','ji'], delim_whitespace=True)\n",
    "#data = pd.read_csv('data_grid_35x35_1.5.dat', names=['s2','dm','alp','ji'], delim_whitespace=True)\n",
    "\n",
    "#data = pd.read_csv('only_data.dat', names=['s2','dm','alp','ji'], delim_whitespace=True)\n",
    "data = pd.read_csv('only_data_sigma_as_exp.dat', names=['s2','dm','alp','ji'], delim_whitespace=True)\n",
    "\n",
    "#data = pd.read_csv('only_data_rate_and_total.dat', names=['s2','dm','alp','ji'], delim_whitespace=True)\n",
    "\n",
    "# Data from RENO collaboration\n",
    "data_cl68 = pd.read_table('../reno_for_global_analysis/reno_data/reno2018_cl68.csv', delim_whitespace=True)\n",
    "data_cl95 = pd.read_table('../reno_for_global_analysis/reno_data/reno2018_cl95.csv', delim_whitespace=True)\n",
    "data_cl99 = pd.read_table('../reno_for_global_analysis/reno_data/reno2018_cl99.csv', delim_whitespace=True)"
   ]
  },
  {
   "cell_type": "code",
   "execution_count": null,
   "metadata": {},
   "outputs": [],
   "source": [
    "idx_min=data['ji'].idxmin()\n",
    "idx_min"
   ]
  },
  {
   "cell_type": "code",
   "execution_count": null,
   "metadata": {},
   "outputs": [],
   "source": [
    "alp_min = data['alp'][idx_min]\n",
    "dm_min = data['dm'][idx_min]\n",
    "s2_min = data['s2'][idx_min]\n",
    "ji_min = data['ji'][idx_min]"
   ]
  },
  {
   "cell_type": "code",
   "execution_count": null,
   "metadata": {},
   "outputs": [],
   "source": [
    "ji_min, alp_min, dm_min, s2_min"
   ]
  },
  {
   "cell_type": "code",
   "execution_count": null,
   "metadata": {},
   "outputs": [],
   "source": [
    "new_Data = data[data['alp'] == alp_min][['s2','dm','ji']]"
   ]
  },
  {
   "cell_type": "code",
   "execution_count": null,
   "metadata": {},
   "outputs": [],
   "source": [
    "new_Data['ji']=new_Data['ji'] - ji_min"
   ]
  },
  {
   "cell_type": "code",
   "execution_count": null,
   "metadata": {},
   "outputs": [],
   "source": [
    "dat_68 = new_Data[(new_Data['ji'] <= 2.3) & (new_Data['ji'] >= 2.1)]#[['s2','dm']]\n",
    "dat_95 = new_Data[(new_Data['ji'] <= 6.2) & (new_Data['ji'] >= 6.0)]#[['s2','dm']]\n",
    "dat_99 = new_Data[(new_Data['ji'] <= 11.8)& (new_Data['ji'] >= 11.6)]#[['s2','dm']]\n",
    "\n",
    "#dat_68 = new_Data[(new_Data['ji'] <= 2.3)]#[['s2','dm']]\n",
    "#dat_95 = new_Data[(new_Data['ji'] <= 6.2) ]#[['s2','dm']]\n",
    "#dat_99 = new_Data[(new_Data['ji'] <= 11.8)]#[['s2','dm']]"
   ]
  },
  {
   "cell_type": "code",
   "execution_count": null,
   "metadata": {},
   "outputs": [],
   "source": [
    "new_Data.to_csv('data_plot.dat', sep=' ', header=False, index=False)"
   ]
  },
  {
   "cell_type": "code",
   "execution_count": null,
   "metadata": {
    "scrolled": false
   },
   "outputs": [],
   "source": [
    "fig, ax = plt.subplots(figsize=(8,8))\n",
    "\n",
    "ax.scatter(data_cl68.s22t13, data_cl68.dmee, label='RENO 68%')\n",
    "ax.scatter(data_cl95.s22t13, data_cl95.dmee, label='RENO 95%')\n",
    "ax.scatter(data_cl99.s22t13, data_cl99.dmee, label='RENO 99%')\n",
    "size=0.5\n",
    "ax.scatter(dat_99.s2, dat_99.dm, s=size, label='Our 99%')\n",
    "ax.scatter(dat_95.s2, dat_95.dm, s=size, label='Our 95%')\n",
    "ax.scatter(dat_68.s2, dat_68.dm, s=size, label='Our 68%')\n",
    "\n",
    "ax.set_xlim(0.0, 0.2)\n",
    "#ax.set_xticks([0,0.05,0.1,0.15,0.2])\n",
    "\n",
    "ax.set_ylim(0.0015, 0.0035)\n",
    "#ax.set_yticks([0.002,0.0025,0.0030,0.0035])\n",
    "\n",
    "ax.legend()\n",
    "\n",
    "fig.savefig(\"reno_data_only_best_fit_35x35.png\")\n",
    "plt.show()"
   ]
  },
  {
   "cell_type": "code",
   "execution_count": null,
   "metadata": {},
   "outputs": [],
   "source": []
  },
  {
   "cell_type": "code",
   "execution_count": null,
   "metadata": {},
   "outputs": [],
   "source": []
  }
 ],
 "metadata": {
  "kernelspec": {
   "display_name": "Python 3",
   "language": "python",
   "name": "python3"
  },
  "language_info": {
   "codemirror_mode": {
    "name": "ipython",
    "version": 3
   },
   "file_extension": ".py",
   "mimetype": "text/x-python",
   "name": "python",
   "nbconvert_exporter": "python",
   "pygments_lexer": "ipython3",
   "version": "3.7.6"
  }
 },
 "nbformat": 4,
 "nbformat_minor": 4
}
